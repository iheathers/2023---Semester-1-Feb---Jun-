{
 "cells": [
  {
   "cell_type": "code",
   "execution_count": null,
   "id": "9c83189f-7532-4c66-a6ea-a6b952b0370d",
   "metadata": {},
   "outputs": [],
   "source": [
    "import numpy as np\n",
    "import matplotlib.pyplot as plt\n",
    "\n",
    "# Generate random data with a nonlinear relationship\n",
    "np.random.seed(0)\n",
    "X1 = np.linspace(-5, 5, 100)\n",
    "Y = 2 * X1**2 + 3 * X1 + np.random.normal(0, 5, 100)\n",
    "\n",
    "# Fit linear regression\n",
    "linear_coeffs = np.polyfit(X1, Y, 1)\n",
    "linear_regression = np.poly1d(linear_coeffs)\n",
    "\n",
    "# Fit cubic regression\n",
    "cubic_coeffs = np.polyfit(X1, Y, 3)\n",
    "cubic_regression = np.poly1d(cubic_coeffs)\n",
    "\n",
    "# Scatter plot of data points\n",
    "plt.scatter(X1, Y, color='blue', label='Data')\n",
    "\n",
    "# Plot linear regression line\n",
    "plt.plot(X1, linear_regression(X1), color='red', label='Linear Regression')\n",
    "\n",
    "# Plot cubic regression curve\n",
    "X1_smooth = np.linspace(-5, 5, 200)\n",
    "plt.plot(X1_smooth, cubic_regression(X1_smooth), color='green', label='Cubic Regression')\n",
    "\n",
    "# Set plot labels and legend\n",
    "plt.xlabel('X1')\n",
    "plt.ylabel('Y')\n",
    "plt.legend()\n",
    "\n",
    "# Show the plot\n",
    "plt.show()\n"
   ]
  }
 ],
 "metadata": {
  "kernelspec": {
   "display_name": "Python 3 (ipykernel)",
   "language": "python",
   "name": "python3"
  },
  "language_info": {
   "codemirror_mode": {
    "name": "ipython",
    "version": 3
   },
   "file_extension": ".py",
   "mimetype": "text/x-python",
   "name": "python",
   "nbconvert_exporter": "python",
   "pygments_lexer": "ipython3",
   "version": "3.9.13"
  }
 },
 "nbformat": 4,
 "nbformat_minor": 5
}
